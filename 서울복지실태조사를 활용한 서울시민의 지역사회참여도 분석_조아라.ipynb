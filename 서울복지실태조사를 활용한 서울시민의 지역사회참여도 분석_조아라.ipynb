{
 "cells": [
  {
   "cell_type": "markdown",
   "metadata": {},
   "source": [
    "# Abstract \n",
    "\n",
    "- 본 분석은 본인의 서울대 사회학과 석사학위 논문에 사용한 자료를 재구성한 것임. \n",
    "- 본 분석에서 이용된 데이터는 <서울시 복지실태조사(2018), 서울연구원>임.본래 논문에서는 2015년도 데이터를 사용했지만 2018년 데이터가 업로드되어 2018년 데이터로 재구성함. \n",
    "- 본래 논문의 목적은 여러 요인들을 통제한 후 주거빈곤과 지역사회참여율 간의 선형관계를 확인하는 것이나, 본 분석에서는 지역사회참여율과 다른 요인들 간의 상관관계를 살펴보는 것으로 한정함. "
   ]
  },
  {
   "cell_type": "markdown",
   "metadata": {},
   "source": [
    "### 1. Data Importing \n",
    "\n",
    "#### 서울시 복지실태조사(2018)\n",
    "- 각 칼럼은 설문지의 문제 번호로 명시되어 있음. 각 컬럼의 내용은 서울복지실태조사 서베이 코드북을 통해 확인할 수 있음 \n",
    "- 분석에 필요한 컬럼은 각 코드마다 주석처리로 달아놓았음 "
   ]
  },
  {
   "cell_type": "code",
   "execution_count": 1,
   "metadata": {},
   "outputs": [],
   "source": [
    "import pandas as pd\n",
    "import numpy as np\n",
    "\n",
    "df = pd.read_excel('sisurvey_2018-ER-10_RAWDATA_excel_서울복지실태조사.xlsx')\n",
    "df = df.set_index('ID')"
   ]
  },
  {
   "cell_type": "code",
   "execution_count": 2,
   "metadata": {},
   "outputs": [
    {
     "data": {
      "text/html": [
       "<div>\n",
       "<style scoped>\n",
       "    .dataframe tbody tr th:only-of-type {\n",
       "        vertical-align: middle;\n",
       "    }\n",
       "\n",
       "    .dataframe tbody tr th {\n",
       "        vertical-align: top;\n",
       "    }\n",
       "\n",
       "    .dataframe thead th {\n",
       "        text-align: right;\n",
       "    }\n",
       "</style>\n",
       "<table border=\"1\" class=\"dataframe\">\n",
       "  <thead>\n",
       "    <tr style=\"text-align: right;\">\n",
       "      <th></th>\n",
       "      <th>A0111</th>\n",
       "      <th>A012</th>\n",
       "      <th>A01201</th>\n",
       "      <th>A01202</th>\n",
       "      <th>A01203</th>\n",
       "      <th>A01204</th>\n",
       "      <th>A01205</th>\n",
       "      <th>A01206</th>\n",
       "      <th>A01207</th>\n",
       "      <th>A01208</th>\n",
       "      <th>...</th>\n",
       "      <th>F1301</th>\n",
       "      <th>F14</th>\n",
       "      <th>F1401</th>\n",
       "      <th>F1402</th>\n",
       "      <th>F1403</th>\n",
       "      <th>F1404</th>\n",
       "      <th>F1405</th>\n",
       "      <th>WT</th>\n",
       "      <th>WT2</th>\n",
       "      <th>LOC</th>\n",
       "    </tr>\n",
       "    <tr>\n",
       "      <th>ID</th>\n",
       "      <th></th>\n",
       "      <th></th>\n",
       "      <th></th>\n",
       "      <th></th>\n",
       "      <th></th>\n",
       "      <th></th>\n",
       "      <th></th>\n",
       "      <th></th>\n",
       "      <th></th>\n",
       "      <th></th>\n",
       "      <th></th>\n",
       "      <th></th>\n",
       "      <th></th>\n",
       "      <th></th>\n",
       "      <th></th>\n",
       "      <th></th>\n",
       "      <th></th>\n",
       "      <th></th>\n",
       "      <th></th>\n",
       "      <th></th>\n",
       "      <th></th>\n",
       "    </tr>\n",
       "  </thead>\n",
       "  <tbody>\n",
       "    <tr>\n",
       "      <th>1</th>\n",
       "      <td>1</td>\n",
       "      <td>1</td>\n",
       "      <td>NaN</td>\n",
       "      <td>NaN</td>\n",
       "      <td>NaN</td>\n",
       "      <td>NaN</td>\n",
       "      <td>NaN</td>\n",
       "      <td>NaN</td>\n",
       "      <td>NaN</td>\n",
       "      <td>NaN</td>\n",
       "      <td>...</td>\n",
       "      <td>2</td>\n",
       "      <td>4</td>\n",
       "      <td>3</td>\n",
       "      <td>4</td>\n",
       "      <td>3</td>\n",
       "      <td>3</td>\n",
       "      <td>4</td>\n",
       "      <td>0.623186</td>\n",
       "      <td>792.123686</td>\n",
       "      <td>1</td>\n",
       "    </tr>\n",
       "    <tr>\n",
       "      <th>2</th>\n",
       "      <td>1</td>\n",
       "      <td>1</td>\n",
       "      <td>2.0</td>\n",
       "      <td>3.0</td>\n",
       "      <td>3.0</td>\n",
       "      <td>NaN</td>\n",
       "      <td>NaN</td>\n",
       "      <td>NaN</td>\n",
       "      <td>NaN</td>\n",
       "      <td>NaN</td>\n",
       "      <td>...</td>\n",
       "      <td>3</td>\n",
       "      <td>4</td>\n",
       "      <td>4</td>\n",
       "      <td>3</td>\n",
       "      <td>4</td>\n",
       "      <td>5</td>\n",
       "      <td>4</td>\n",
       "      <td>0.248203</td>\n",
       "      <td>315.487881</td>\n",
       "      <td>1</td>\n",
       "    </tr>\n",
       "    <tr>\n",
       "      <th>3</th>\n",
       "      <td>2</td>\n",
       "      <td>1</td>\n",
       "      <td>7.0</td>\n",
       "      <td>NaN</td>\n",
       "      <td>NaN</td>\n",
       "      <td>NaN</td>\n",
       "      <td>NaN</td>\n",
       "      <td>NaN</td>\n",
       "      <td>NaN</td>\n",
       "      <td>NaN</td>\n",
       "      <td>...</td>\n",
       "      <td>4</td>\n",
       "      <td>3</td>\n",
       "      <td>3</td>\n",
       "      <td>3</td>\n",
       "      <td>5</td>\n",
       "      <td>4</td>\n",
       "      <td>4</td>\n",
       "      <td>0.139483</td>\n",
       "      <td>177.294886</td>\n",
       "      <td>1</td>\n",
       "    </tr>\n",
       "    <tr>\n",
       "      <th>4</th>\n",
       "      <td>2</td>\n",
       "      <td>1</td>\n",
       "      <td>2.0</td>\n",
       "      <td>3.0</td>\n",
       "      <td>NaN</td>\n",
       "      <td>NaN</td>\n",
       "      <td>NaN</td>\n",
       "      <td>NaN</td>\n",
       "      <td>NaN</td>\n",
       "      <td>NaN</td>\n",
       "      <td>...</td>\n",
       "      <td>3</td>\n",
       "      <td>4</td>\n",
       "      <td>3</td>\n",
       "      <td>4</td>\n",
       "      <td>5</td>\n",
       "      <td>4</td>\n",
       "      <td>4</td>\n",
       "      <td>0.265275</td>\n",
       "      <td>337.187736</td>\n",
       "      <td>1</td>\n",
       "    </tr>\n",
       "    <tr>\n",
       "      <th>5</th>\n",
       "      <td>1</td>\n",
       "      <td>1</td>\n",
       "      <td>NaN</td>\n",
       "      <td>NaN</td>\n",
       "      <td>NaN</td>\n",
       "      <td>NaN</td>\n",
       "      <td>NaN</td>\n",
       "      <td>NaN</td>\n",
       "      <td>NaN</td>\n",
       "      <td>NaN</td>\n",
       "      <td>...</td>\n",
       "      <td>3</td>\n",
       "      <td>3</td>\n",
       "      <td>4</td>\n",
       "      <td>3</td>\n",
       "      <td>4</td>\n",
       "      <td>3</td>\n",
       "      <td>3</td>\n",
       "      <td>0.623186</td>\n",
       "      <td>792.123686</td>\n",
       "      <td>1</td>\n",
       "    </tr>\n",
       "  </tbody>\n",
       "</table>\n",
       "<p>5 rows × 883 columns</p>\n",
       "</div>"
      ],
      "text/plain": [
       "    A0111  A012  A01201  A01202  A01203  A01204  A01205  A01206  A01207  \\\n",
       "ID                                                                        \n",
       "1       1     1     NaN     NaN     NaN     NaN     NaN     NaN     NaN   \n",
       "2       1     1     2.0     3.0     3.0     NaN     NaN     NaN     NaN   \n",
       "3       2     1     7.0     NaN     NaN     NaN     NaN     NaN     NaN   \n",
       "4       2     1     2.0     3.0     NaN     NaN     NaN     NaN     NaN   \n",
       "5       1     1     NaN     NaN     NaN     NaN     NaN     NaN     NaN   \n",
       "\n",
       "    A01208  ...  F1301  F14  F1401  F1402  F1403  F1404  F1405        WT  \\\n",
       "ID          ...                                                            \n",
       "1      NaN  ...      2    4      3      4      3      3      4  0.623186   \n",
       "2      NaN  ...      3    4      4      3      4      5      4  0.248203   \n",
       "3      NaN  ...      4    3      3      3      5      4      4  0.139483   \n",
       "4      NaN  ...      3    4      3      4      5      4      4  0.265275   \n",
       "5      NaN  ...      3    3      4      3      4      3      3  0.623186   \n",
       "\n",
       "           WT2  LOC  \n",
       "ID                   \n",
       "1   792.123686    1  \n",
       "2   315.487881    1  \n",
       "3   177.294886    1  \n",
       "4   337.187736    1  \n",
       "5   792.123686    1  \n",
       "\n",
       "[5 rows x 883 columns]"
      ]
     },
     "execution_count": 2,
     "metadata": {},
     "output_type": "execute_result"
    }
   ],
   "source": [
    "df.head()"
   ]
  },
  {
   "cell_type": "code",
   "execution_count": 3,
   "metadata": {},
   "outputs": [
    {
     "data": {
      "text/plain": [
       "(3000, 883)"
      ]
     },
     "execution_count": 3,
     "metadata": {},
     "output_type": "execute_result"
    }
   ],
   "source": [
    "df.shape"
   ]
  },
  {
   "cell_type": "markdown",
   "metadata": {},
   "source": [
    "### 2. Data Preprocessing \n",
    "- 본 분석의 목적은 주거 빈곤과 다른 요인들과 지역사회참여율의 상관관계를 살펴보는 것임.\n",
    "- 따라서 목적에 맞게 새로운 칼럼들을 추가하여 새로운 데이터셋 생성. \n",
    "- 본 분석에서 필요한 칼럼들(features)은 다음과 같음 : \n",
    "> 설문 응답자의 인구학적 특성 : 성별, 연령, 가구유형  \n",
    "설문 응답자의 사회경제적 특성  : 교육수준, 월평균소득  \n",
    "설문 응답자의 주거 환경 및 주거 빈곤율  : 주거점유형태, 거주건물의 유형, 주거빈곤(슈바베 지수)  \n",
    "설문 응답자의 지역사회참여 : 지역사회 참여경험, 지역사회 참여의향"
   ]
  },
  {
   "cell_type": "markdown",
   "metadata": {},
   "source": [
    "### [1] 설문응답자의 인구학적 특성 : 성별, 연령, 가구유형 "
   ]
  },
  {
   "cell_type": "code",
   "execution_count": 4,
   "metadata": {},
   "outputs": [],
   "source": [
    "### 설문응답자의 인구학적 특성: 성별 \n",
    "# A0111 : 설문 응답 가구원의 번호 (1=가구주, 2=배우자, 3=가구주의 자녀, 4=가구주의 자녀의 배우자, 5=가구주의 부모\n",
    "# A013~A01304 : 설문 응답 가구원의 성별(1=남자, 2=여자)\n",
    "# 설문에 응답한 가구원들의 성별을 'gender' 컬럼으로 생성\n",
    "\n",
    "def gen(df):\n",
    "    if df['A0111']==1 : return df['A013']\n",
    "    elif df['A0111']==2 : return df['A01301']\n",
    "    elif df['A0111']==3 : return df['A01302']\n",
    "    elif df['A0111']==4 : return df['A01303']\n",
    "    else : return df['A01304']\n",
    "\n",
    "df['gender']=df.apply(gen, axis=1)"
   ]
  },
  {
   "cell_type": "code",
   "execution_count": 5,
   "metadata": {},
   "outputs": [],
   "source": [
    "### 설문응답자의 인구학적 특성: 연령  \n",
    "# A0111 : 설문 응답 가구원의 번호 (1=가구주, 2=배우자, 3=가구주의 자녀, 4=가구주의 자녀의 배우자, 5=가구주의 부모\n",
    "# A0141~A014104 : 설문 응답 가구원의 연령\n",
    "# 설문에 응답한 가구원들의 연령을(2018기준) 'age'컬럼으로 생성 \n",
    "\n",
    "def age(df):\n",
    "    if df['A0111']==1 : return 2018-df['A0141']+1\n",
    "    elif df['A0111']==2 : return 2018-df['A014101']+1\n",
    "    elif df['A0111']==3 : return 2018-df['A014102']+1\n",
    "    elif df['A0111']==4 : return 2018-df['A014103']+1\n",
    "    else : return 2018-df['A014104']+1\n",
    "\n",
    "df['age']=df.apply(age, axis=1)"
   ]
  },
  {
   "cell_type": "code",
   "execution_count": 6,
   "metadata": {},
   "outputs": [],
   "source": [
    "### 설문응답자의 인구학적 특성: 가구유형 \n",
    "# A0110 : 설문 응답자의 가구형태 (1=1인가구, 2=모자가구, 3=부자가구, 4=소년소녀가장 가구, 5=조손가구, 6=기타)\n",
    "# 설문에 응답한 가구원의 가구유형을 1인가구(1), 다인가구(2), 그외(3)으로 분류하여 'hh_type'컬럼으로 생성 \n",
    "\n",
    "def householdtype(df):\n",
    "    if df['A0110']==1 : return 1 \n",
    "    elif df['A0110']==6 : return 2\n",
    "    else : return 3 \n",
    "\n",
    "df['hh_type']=df.apply(householdtype, axis=1)"
   ]
  },
  {
   "cell_type": "markdown",
   "metadata": {},
   "source": [
    "### [2] 설문 응답자의 사회경제적 특성 : 교육수준, 월평균소득"
   ]
  },
  {
   "cell_type": "code",
   "execution_count": 7,
   "metadata": {},
   "outputs": [],
   "source": [
    "### 설문응답자의 사회경제적 특성: 교육수준 \n",
    "# A0111 : 설문 응답 가구원의 번호 (1=가구주, 2=배우자, 3=가구주의 자녀, 4=가구주의 자녀의 배우자, 5=가구주의 부모\n",
    "# A016~A01603 : 설문 응답 가구원의 최종 학교 (1=미취학, 2=무학, 3=초등학교, 4=중학교, 5=고등학교, 6=대학(4년제미만), 7=대학(4년제이상), 8=대학원(석사), 9=대학원(박사))\n",
    "# 설문에 응답한 가구원의 교육수준을 'edu'컬럼으로 생성 \n",
    "\n",
    "def edu(df):\n",
    "    if df['A0111']==1 : return df['A016']\n",
    "    elif df['A0111']==2 : return df['A01601']\n",
    "    elif df['A0111']==3 : return df['A01602']\n",
    "    elif df['A0111']==4 : return df['A01603']\n",
    "    else : return df['A01604']\n",
    "\n",
    "df['edu']=df.apply(edu, axis=1)"
   ]
  },
  {
   "cell_type": "code",
   "execution_count": 8,
   "metadata": {},
   "outputs": [],
   "source": [
    "### 설문응답자의 사회경제적 특성 : 월평균소득(지난해-2017년-기준) \n",
    "# B09 : 가구 총소득_근로소득(만원) \n",
    "# B0901 : 가구 총소득_사업소득(만원)\n",
    "# B0902 : 가구 총소득_재산소득(만원)\n",
    "# B0903 : 가구 총소득_공적이전소득(만원)\n",
    "# B0904 : 가구 총소득_사적이전소득/기타소득(만원) \n",
    "# 설문에 응답한 가구원의 총 가구연소득을 /12 하여 월소득을 의미하는 'income'컬럼 생성 \n",
    "\n",
    "df['income']=df.loc[:, 'B09':'B0904'].sum(axis=1) #연소득 \n",
    "df['income']=df['income']/12   #월평균소득\n",
    "df['income']=df['income'].round() #반올림 "
   ]
  },
  {
   "cell_type": "markdown",
   "metadata": {},
   "source": [
    "### [3] 설문 응답자의 주거환경 및 주거빈곤 : 주거점유형태, 거주건물유형, 슈바베지수\n",
    "<b> 슈바베 지수 Schuwabe's index의 정의</b>\n",
    "> - 슈바베 지수(%):월 주거비 지출 / 월 가계 지출 *100  \n",
    "> - 가계지출 : 주거비, 생활비, 세금,의료비  \n",
    "> - 주거비 : 월세 또는 전세가, 수도세, 전기세 등 관리비, 부채에 대한 한 달 이자   \n",
    ">주1) 보증금은 주거비에 포함하지 않음. 이는 보증금을 포함할 경우 보증금 없는 월세 거주자가 보증금이 있는 월세 거주자보다 주거비 부담이 덜 느껴지는 것으로 나타날 소지가 있기 때문. 따라서 본 분석에서 주거비는 보증금을 제외한 월세와 관리비, 부채 한 달 이자를 포함함.  \n",
    ">주2) 부채에 대한 한 달 이자는 가구의 총 부채에서 주거비가 1순위 ,2순위인 가구에 한정해 적용 "
   ]
  },
  {
   "cell_type": "code",
   "execution_count": 9,
   "metadata": {},
   "outputs": [],
   "source": [
    "### 설문응답자의 주거 점유형태 \n",
    "# A041 : 거주하고 있는 주택 점유 형태 (1=자가, 2=전세, 3=보증금 있는 월세, 4=보증금 없는 월세, 5=무상, 6=기타)\n",
    "# 설문에 응답한 가구원 가구의 주택 점유형태를 자가(1), 전세(2), 월세(3), 그외(4)로 분류하여 'occupation'컬럼 생성 \n",
    "\n",
    "def occupation(df):\n",
    "    if df['A041']==1 : return 1 \n",
    "    elif df['A041']==2 : return 2\n",
    "    elif df['A041']==3 or df['A041']==4 : return 3 \n",
    "    else : return 4 \n",
    "\n",
    "df['occupation']=df.apply(occupation, axis=1)"
   ]
  },
  {
   "cell_type": "code",
   "execution_count": 10,
   "metadata": {},
   "outputs": [],
   "source": [
    "### 설문응답자의 거주건물 유형 \n",
    "# A03 : 거주하고 있는 주택의 유형 \n",
    "#(1=일반단독주택, 2=다가구용 단독주택, 3=다세대용 단독주택, 4=연립주택, \n",
    "# 5=아파트, 6=오피스텔(원룸제외), 7=원룸, 8=주택이 아닌 건물(쪽방, 고시원, 상가, 여관, 공장 등),\n",
    "# 9=주택이 아닌 임시구조물(비닐하우스, 움막, 판잣집, 컨테이너 등), 10=기타)\n",
    "\n",
    "# 설문에 응답한 가구원 가구의 거주건물 유형을 아파트(1), 다가구/다세대/연립주택/오피스텔(2), 단독주택(3), 원룸(4), 그외(5)로 분류하여 \n",
    "# 'building_type'컬럼 생성 \n",
    "\n",
    "def buildingtype(df):\n",
    "    if df['A03']==5 : return 1\n",
    "    elif df['A03']>=2 and df['A03']<=4 : return 2 \n",
    "    elif df['A03']==6 : return 2\n",
    "    elif df['A03']==1 : return 3 \n",
    "    elif df['A03']==7 : return 4 \n",
    "    else : return 5\n",
    "    \n",
    "df['building_type']=df.apply(buildingtype, axis=1)"
   ]
  },
  {
   "cell_type": "code",
   "execution_count": 11,
   "metadata": {},
   "outputs": [],
   "source": [
    "###주거빈곤 \n",
    "##[1] 월 주거비지출 : 부채에 대한 월이자, 관리비(난방비 등), 월세 \n",
    "\n",
    "#1) 부채에 대한 월이자\n",
    "# B141 : 보유하고 있는 부채 용도(1순위) : 1= 주택구입비용(거주용), 2=주택 전월세 보증금  \n",
    "# B14101 : 보유하고 있는 부채 용도(2순위) : 1= 주택구입비용(거주용), 2=주택 전월세 보증금 \n",
    "# B143 = 부채로 인한 매달 지출 이자(만원) \n",
    "\n",
    "# 설문에 응답한 가구원 가구의 부채 원인이 주택구입비용, 전월세보증금비용인 경우에 한하여 매달 지출 이자를 'interest'컬럼으로 생성 \n",
    "\n",
    "def interest(df):\n",
    "    if df['B141']==1 or df['B141']==2 : return df['B143']\n",
    "    if df['B14101']==1 or df['B14101']==2 : return df['B143']\n",
    "    else : return 0 \n",
    "\n",
    "df['interest']=df.apply(interest, axis=1)"
   ]
  },
  {
   "cell_type": "code",
   "execution_count": 12,
   "metadata": {},
   "outputs": [],
   "source": [
    "#2) 월세 \n",
    "# A0424 : 보증금 없는 월세 거주자 _ 매달 월세(만원) \n",
    "# A04232 : 보긍금 있는 월세거주자 _ 매달 월세(만원) \n",
    "\n",
    "# 설문에 응답한 가구원 가구의 월세를 'mon_pay' 컬럼으로 생성 \n",
    "\n",
    "df['A04232'].fillna(0, inplace=True) #Nan -> 0 \n",
    "df['A0424'].fillna(0, inplace=True)\n",
    "df['mon_pay']=df['A04232'] + df['A0424']"
   ]
  },
  {
   "cell_type": "code",
   "execution_count": 13,
   "metadata": {},
   "outputs": [
    {
     "data": {
      "text/plain": [
       "count    3000.000000\n",
       "mean       16.130167\n",
       "std        36.895089\n",
       "min         2.000000\n",
       "25%        10.000000\n",
       "50%        13.000000\n",
       "75%        19.000000\n",
       "max       999.000000\n",
       "Name: A08, dtype: float64"
      ]
     },
     "execution_count": 13,
     "metadata": {},
     "output_type": "execute_result"
    }
   ],
   "source": [
    "#3) 난방비 \n",
    "# A08 : 난방비 지출 금액(만원) \n",
    "\n",
    "#난방비가 999인 이상값이 존재하는데, 이는 같은 소득수준에 속하는 가구들의 평균난방비로 대체. \n",
    "\n",
    "df['A08'].describe()"
   ]
  },
  {
   "cell_type": "code",
   "execution_count": 14,
   "metadata": {
    "scrolled": true
   },
   "outputs": [
    {
     "data": {
      "text/html": [
       "<div>\n",
       "<style scoped>\n",
       "    .dataframe tbody tr th:only-of-type {\n",
       "        vertical-align: middle;\n",
       "    }\n",
       "\n",
       "    .dataframe tbody tr th {\n",
       "        vertical-align: top;\n",
       "    }\n",
       "\n",
       "    .dataframe thead th {\n",
       "        text-align: right;\n",
       "    }\n",
       "</style>\n",
       "<table border=\"1\" class=\"dataframe\">\n",
       "  <thead>\n",
       "    <tr style=\"text-align: right;\">\n",
       "      <th></th>\n",
       "      <th>A08</th>\n",
       "      <th>income</th>\n",
       "    </tr>\n",
       "    <tr>\n",
       "      <th>ID</th>\n",
       "      <th></th>\n",
       "      <th></th>\n",
       "    </tr>\n",
       "  </thead>\n",
       "  <tbody>\n",
       "    <tr>\n",
       "      <th>38</th>\n",
       "      <td>999.0</td>\n",
       "      <td>250.0</td>\n",
       "    </tr>\n",
       "    <tr>\n",
       "      <th>39</th>\n",
       "      <td>999.0</td>\n",
       "      <td>267.0</td>\n",
       "    </tr>\n",
       "    <tr>\n",
       "      <th>158</th>\n",
       "      <td>999.0</td>\n",
       "      <td>317.0</td>\n",
       "    </tr>\n",
       "    <tr>\n",
       "      <th>1674</th>\n",
       "      <td>999.0</td>\n",
       "      <td>500.0</td>\n",
       "    </tr>\n",
       "  </tbody>\n",
       "</table>\n",
       "</div>"
      ],
      "text/plain": [
       "        A08  income\n",
       "ID                 \n",
       "38    999.0   250.0\n",
       "39    999.0   267.0\n",
       "158   999.0   317.0\n",
       "1674  999.0   500.0"
      ]
     },
     "execution_count": 14,
     "metadata": {},
     "output_type": "execute_result"
    }
   ],
   "source": [
    "a=df[df['A08']==999]\n",
    "a[['A08', 'income']]"
   ]
  },
  {
   "cell_type": "code",
   "execution_count": 15,
   "metadata": {},
   "outputs": [
    {
     "data": {
      "text/plain": [
       "15.152823920265782"
      ]
     },
     "execution_count": 15,
     "metadata": {},
     "output_type": "execute_result"
    }
   ],
   "source": [
    "in_2300=df[(df['income']>=200) & (df['income']<300)]\n",
    "in_2300['A08'].mean()"
   ]
  },
  {
   "cell_type": "code",
   "execution_count": 16,
   "metadata": {},
   "outputs": [
    {
     "data": {
      "text/plain": [
       "15.724899598393574"
      ]
     },
     "execution_count": 16,
     "metadata": {},
     "output_type": "execute_result"
    }
   ],
   "source": [
    "in_3400=df[(df['income']>=300) & (df['income']<400)]\n",
    "in_3400['A08'].mean()"
   ]
  },
  {
   "cell_type": "code",
   "execution_count": 17,
   "metadata": {},
   "outputs": [
    {
     "data": {
      "text/plain": [
       "19.16632860040568"
      ]
     },
     "execution_count": 17,
     "metadata": {},
     "output_type": "execute_result"
    }
   ],
   "source": [
    "in_5600=df[(df['income']>=500) & (df['income']<600)]\n",
    "in_5600['A08'].mean()"
   ]
  },
  {
   "cell_type": "code",
   "execution_count": 18,
   "metadata": {},
   "outputs": [],
   "source": [
    "df.loc[38:40, 'A08']=15\n",
    "df.loc[158, 'A08']=16\n",
    "df.loc[1674, 'A08']=19"
   ]
  },
  {
   "cell_type": "code",
   "execution_count": 19,
   "metadata": {},
   "outputs": [
    {
     "data": {
      "text/plain": [
       "count    3000.000000\n",
       "mean       14.819833\n",
       "std         8.429708\n",
       "min         2.000000\n",
       "25%        10.000000\n",
       "50%        13.000000\n",
       "75%        19.000000\n",
       "max        90.000000\n",
       "Name: A08, dtype: float64"
      ]
     },
     "execution_count": 19,
     "metadata": {},
     "output_type": "execute_result"
    }
   ],
   "source": [
    "df.A08.describe()"
   ]
  },
  {
   "cell_type": "code",
   "execution_count": 20,
   "metadata": {},
   "outputs": [],
   "source": [
    "# 4) 총 월주거비 지출 = 1)부채에 대한 월이자 +2)월세 +3)난방비  \n",
    "def h_expense(df):\n",
    "    if df['occupation']==1 : return df['A08']+df['interest']\n",
    "    elif df['occupation']==2 : return df['A08']+df['interest']\n",
    "    elif df['occupation']==3 : return df['mon_pay']+df['A08']+df['interest']\n",
    "    else : return df['A08']+df['interest']\n",
    "    \n",
    "df['h_expense']=df.apply(h_expense, axis=1)"
   ]
  },
  {
   "cell_type": "code",
   "execution_count": 21,
   "metadata": {},
   "outputs": [
    {
     "data": {
      "text/plain": [
       "count      3000.000000\n",
       "mean        577.358667\n",
       "std       18253.359345\n",
       "min           7.000000\n",
       "25%         150.000000\n",
       "50%         220.000000\n",
       "75%         300.000000\n",
       "max      999999.000000\n",
       "Name: B02, dtype: float64"
      ]
     },
     "execution_count": 21,
     "metadata": {},
     "output_type": "execute_result"
    }
   ],
   "source": [
    "## [2] 월 가계지출비 \n",
    "# 1) 생활비\n",
    "# B02 : 가구 한 달 평균 생활비 지출액(만원)\n",
    "# 이상치(999999) -> 비슷한 소득수준 가구의 월평균 가계지출비로 대체 \n",
    "\n",
    "df['B02'].describe()"
   ]
  },
  {
   "cell_type": "code",
   "execution_count": 22,
   "metadata": {},
   "outputs": [
    {
     "data": {
      "text/plain": [
       "ID\n",
       "38    250.0\n",
       "Name: income, dtype: float64"
      ]
     },
     "execution_count": 22,
     "metadata": {},
     "output_type": "execute_result"
    }
   ],
   "source": [
    "b=df[df['B02']==999999]\n",
    "b['income']"
   ]
  },
  {
   "cell_type": "code",
   "execution_count": 23,
   "metadata": {},
   "outputs": [
    {
     "data": {
      "text/plain": [
       "167.0316139767055"
      ]
     },
     "execution_count": 23,
     "metadata": {},
     "output_type": "execute_result"
    }
   ],
   "source": [
    "temp=in_2300.drop(38, axis=0)\n",
    "temp.B02.mean()"
   ]
  },
  {
   "cell_type": "code",
   "execution_count": 24,
   "metadata": {},
   "outputs": [
    {
     "data": {
      "text/plain": [
       "count    3000.000000\n",
       "mean      244.081333\n",
       "std       123.209898\n",
       "min         7.000000\n",
       "25%       150.000000\n",
       "50%       220.000000\n",
       "75%       300.000000\n",
       "max      1000.000000\n",
       "Name: B02, dtype: float64"
      ]
     },
     "execution_count": 24,
     "metadata": {},
     "output_type": "execute_result"
    }
   ],
   "source": [
    "df.loc[38, 'B02']=167\n",
    "df.B02.describe()"
   ]
  },
  {
   "cell_type": "code",
   "execution_count": 25,
   "metadata": {},
   "outputs": [
    {
     "data": {
      "text/plain": [
       "count      3000.000000\n",
       "mean       3209.865667\n",
       "std       54687.867920\n",
       "min           0.000000\n",
       "25%          90.000000\n",
       "50%         160.000000\n",
       "75%         300.000000\n",
       "max      999999.000000\n",
       "Name: B04, dtype: float64"
      ]
     },
     "execution_count": 25,
     "metadata": {},
     "output_type": "execute_result"
    }
   ],
   "source": [
    "# 2) 세금  \n",
    "# B04 : 2017년 지출 세금 (만원)\n",
    "# 이상치(999999) -> 비슷한 소득수준 가구의 월평균 세금으로 대체\n",
    "\n",
    "df['B04'].describe()"
   ]
  },
  {
   "cell_type": "code",
   "execution_count": 26,
   "metadata": {},
   "outputs": [
    {
     "data": {
      "text/html": [
       "<div>\n",
       "<style scoped>\n",
       "    .dataframe tbody tr th:only-of-type {\n",
       "        vertical-align: middle;\n",
       "    }\n",
       "\n",
       "    .dataframe tbody tr th {\n",
       "        vertical-align: top;\n",
       "    }\n",
       "\n",
       "    .dataframe thead th {\n",
       "        text-align: right;\n",
       "    }\n",
       "</style>\n",
       "<table border=\"1\" class=\"dataframe\">\n",
       "  <thead>\n",
       "    <tr style=\"text-align: right;\">\n",
       "      <th></th>\n",
       "      <th>income</th>\n",
       "      <th>B04</th>\n",
       "    </tr>\n",
       "    <tr>\n",
       "      <th>ID</th>\n",
       "      <th></th>\n",
       "      <th></th>\n",
       "    </tr>\n",
       "  </thead>\n",
       "  <tbody>\n",
       "    <tr>\n",
       "      <th>1111</th>\n",
       "      <td>62.0</td>\n",
       "      <td>999999</td>\n",
       "    </tr>\n",
       "    <tr>\n",
       "      <th>1668</th>\n",
       "      <td>417.0</td>\n",
       "      <td>999999</td>\n",
       "    </tr>\n",
       "    <tr>\n",
       "      <th>1805</th>\n",
       "      <td>90.0</td>\n",
       "      <td>999999</td>\n",
       "    </tr>\n",
       "    <tr>\n",
       "      <th>1806</th>\n",
       "      <td>48.0</td>\n",
       "      <td>999999</td>\n",
       "    </tr>\n",
       "    <tr>\n",
       "      <th>1809</th>\n",
       "      <td>50.0</td>\n",
       "      <td>999999</td>\n",
       "    </tr>\n",
       "    <tr>\n",
       "      <th>1812</th>\n",
       "      <td>82.0</td>\n",
       "      <td>999999</td>\n",
       "    </tr>\n",
       "    <tr>\n",
       "      <th>1813</th>\n",
       "      <td>70.0</td>\n",
       "      <td>999999</td>\n",
       "    </tr>\n",
       "    <tr>\n",
       "      <th>2326</th>\n",
       "      <td>80.0</td>\n",
       "      <td>999999</td>\n",
       "    </tr>\n",
       "    <tr>\n",
       "      <th>2334</th>\n",
       "      <td>100.0</td>\n",
       "      <td>999999</td>\n",
       "    </tr>\n",
       "  </tbody>\n",
       "</table>\n",
       "</div>"
      ],
      "text/plain": [
       "      income     B04\n",
       "ID                  \n",
       "1111    62.0  999999\n",
       "1668   417.0  999999\n",
       "1805    90.0  999999\n",
       "1806    48.0  999999\n",
       "1809    50.0  999999\n",
       "1812    82.0  999999\n",
       "1813    70.0  999999\n",
       "2326    80.0  999999\n",
       "2334   100.0  999999"
      ]
     },
     "execution_count": 26,
     "metadata": {},
     "output_type": "execute_result"
    }
   ],
   "source": [
    "c=df[df['B04']==999999]\n",
    "c[['income', 'B04']]"
   ]
  },
  {
   "cell_type": "code",
   "execution_count": 27,
   "metadata": {},
   "outputs": [
    {
     "data": {
      "text/plain": [
       "137.87456926257752"
      ]
     },
     "execution_count": 27,
     "metadata": {},
     "output_type": "execute_result"
    }
   ],
   "source": [
    "in_0100=df[(df['income']<400)]\n",
    "temp=in_0100[in_0100.B04!=999999]\n",
    "temp.B04.mean()"
   ]
  },
  {
   "cell_type": "code",
   "execution_count": 28,
   "metadata": {},
   "outputs": [
    {
     "data": {
      "text/plain": [
       "81.6526717557252"
      ]
     },
     "execution_count": 28,
     "metadata": {},
     "output_type": "execute_result"
    }
   ],
   "source": [
    "in_1200=df[(df.income>=100)&(df.income<200)]\n",
    "temp=in_1200[in_1200.B04!=999999]\n",
    "temp.B04.mean()"
   ]
  },
  {
   "cell_type": "code",
   "execution_count": 29,
   "metadata": {},
   "outputs": [
    {
     "data": {
      "text/plain": [
       "243.03982300884957"
      ]
     },
     "execution_count": 29,
     "metadata": {},
     "output_type": "execute_result"
    }
   ],
   "source": [
    "in_4500=df[(df.income>=400)&(df.income<500)]\n",
    "temp=in_4500[in_4500.B04!=999999]\n",
    "temp.B04.mean()"
   ]
  },
  {
   "cell_type": "code",
   "execution_count": 30,
   "metadata": {},
   "outputs": [],
   "source": [
    "df.loc[[1111,1805,1806,1809,1812,1813,2326], 'B04']=137\n",
    "df.loc[2334, 'B04']=81\n",
    "df.loc[1668, 'B04']=243"
   ]
  },
  {
   "cell_type": "code",
   "execution_count": 31,
   "metadata": {},
   "outputs": [
    {
     "data": {
      "text/plain": [
       "count    3000.000000\n",
       "mean      210.296333\n",
       "std       176.254771\n",
       "min         0.000000\n",
       "25%        90.000000\n",
       "50%       160.000000\n",
       "75%       300.000000\n",
       "max       960.000000\n",
       "Name: B04, dtype: float64"
      ]
     },
     "execution_count": 31,
     "metadata": {},
     "output_type": "execute_result"
    }
   ],
   "source": [
    "df.B04.describe()"
   ]
  },
  {
   "cell_type": "code",
   "execution_count": 32,
   "metadata": {},
   "outputs": [
    {
     "data": {
      "text/plain": [
       "count      3000.000000\n",
       "mean       3263.551667\n",
       "std       54685.231079\n",
       "min           0.000000\n",
       "25%         120.000000\n",
       "50%         200.000000\n",
       "75%         350.000000\n",
       "max      999999.000000\n",
       "Name: B05, dtype: float64"
      ]
     },
     "execution_count": 32,
     "metadata": {},
     "output_type": "execute_result"
    }
   ],
   "source": [
    "# 3) 사회보장제도비 \n",
    "# B05 : 2017년 사회보장제도 납부 금액(만원) \n",
    "#이상치(999999) -> 비슷한 소득수준 가구들의 평균사회보장제도비 \n",
    "\n",
    "df.B05.describe()"
   ]
  },
  {
   "cell_type": "code",
   "execution_count": 33,
   "metadata": {},
   "outputs": [
    {
     "data": {
      "text/html": [
       "<div>\n",
       "<style scoped>\n",
       "    .dataframe tbody tr th:only-of-type {\n",
       "        vertical-align: middle;\n",
       "    }\n",
       "\n",
       "    .dataframe tbody tr th {\n",
       "        vertical-align: top;\n",
       "    }\n",
       "\n",
       "    .dataframe thead th {\n",
       "        text-align: right;\n",
       "    }\n",
       "</style>\n",
       "<table border=\"1\" class=\"dataframe\">\n",
       "  <thead>\n",
       "    <tr style=\"text-align: right;\">\n",
       "      <th></th>\n",
       "      <th>B05</th>\n",
       "      <th>income</th>\n",
       "    </tr>\n",
       "    <tr>\n",
       "      <th>ID</th>\n",
       "      <th></th>\n",
       "      <th></th>\n",
       "    </tr>\n",
       "  </thead>\n",
       "  <tbody>\n",
       "    <tr>\n",
       "      <th>1111</th>\n",
       "      <td>999999</td>\n",
       "      <td>62.0</td>\n",
       "    </tr>\n",
       "    <tr>\n",
       "      <th>1668</th>\n",
       "      <td>999999</td>\n",
       "      <td>417.0</td>\n",
       "    </tr>\n",
       "    <tr>\n",
       "      <th>1805</th>\n",
       "      <td>999999</td>\n",
       "      <td>90.0</td>\n",
       "    </tr>\n",
       "    <tr>\n",
       "      <th>1806</th>\n",
       "      <td>999999</td>\n",
       "      <td>48.0</td>\n",
       "    </tr>\n",
       "    <tr>\n",
       "      <th>1809</th>\n",
       "      <td>999999</td>\n",
       "      <td>50.0</td>\n",
       "    </tr>\n",
       "    <tr>\n",
       "      <th>1812</th>\n",
       "      <td>999999</td>\n",
       "      <td>82.0</td>\n",
       "    </tr>\n",
       "    <tr>\n",
       "      <th>1813</th>\n",
       "      <td>999999</td>\n",
       "      <td>70.0</td>\n",
       "    </tr>\n",
       "    <tr>\n",
       "      <th>2326</th>\n",
       "      <td>999999</td>\n",
       "      <td>80.0</td>\n",
       "    </tr>\n",
       "    <tr>\n",
       "      <th>2334</th>\n",
       "      <td>999999</td>\n",
       "      <td>100.0</td>\n",
       "    </tr>\n",
       "  </tbody>\n",
       "</table>\n",
       "</div>"
      ],
      "text/plain": [
       "         B05  income\n",
       "ID                  \n",
       "1111  999999    62.0\n",
       "1668  999999   417.0\n",
       "1805  999999    90.0\n",
       "1806  999999    48.0\n",
       "1809  999999    50.0\n",
       "1812  999999    82.0\n",
       "1813  999999    70.0\n",
       "2326  999999    80.0\n",
       "2334  999999   100.0"
      ]
     },
     "execution_count": 33,
     "metadata": {},
     "output_type": "execute_result"
    }
   ],
   "source": [
    "d=df[df.B05==999999]\n",
    "d[['B05', 'income']]"
   ]
  },
  {
   "cell_type": "code",
   "execution_count": 34,
   "metadata": {},
   "outputs": [
    {
     "data": {
      "text/plain": [
       "155.3762922122674"
      ]
     },
     "execution_count": 34,
     "metadata": {},
     "output_type": "execute_result"
    }
   ],
   "source": [
    "temp=in_0100[in_0100.B05!=999999]\n",
    "temp.B05.mean()"
   ]
  },
  {
   "cell_type": "code",
   "execution_count": 35,
   "metadata": {},
   "outputs": [
    {
     "data": {
      "text/plain": [
       "77.8473282442748"
      ]
     },
     "execution_count": 35,
     "metadata": {},
     "output_type": "execute_result"
    }
   ],
   "source": [
    "temp=in_1200[in_1200.B05!=999999]\n",
    "temp.B05.mean()"
   ]
  },
  {
   "cell_type": "code",
   "execution_count": 36,
   "metadata": {},
   "outputs": [
    {
     "data": {
      "text/plain": [
       "279.58185840707966"
      ]
     },
     "execution_count": 36,
     "metadata": {},
     "output_type": "execute_result"
    }
   ],
   "source": [
    "temp=in_4500[in_4500.B05!=999999]\n",
    "temp.B05.mean()"
   ]
  },
  {
   "cell_type": "code",
   "execution_count": 37,
   "metadata": {},
   "outputs": [
    {
     "data": {
      "text/plain": [
       "count    3000.000000\n",
       "mean      264.035000\n",
       "std       254.625019\n",
       "min         0.000000\n",
       "25%       120.000000\n",
       "50%       200.000000\n",
       "75%       350.000000\n",
       "max      3500.000000\n",
       "Name: B05, dtype: float64"
      ]
     },
     "execution_count": 37,
     "metadata": {},
     "output_type": "execute_result"
    }
   ],
   "source": [
    "df.loc[[1111,1805, 1806, 1809, 1812, 1813, 2326], 'B05']=155\n",
    "df.loc[2334, 'B05']=77\n",
    "df.loc[1668, 'B05']=279\n",
    "df.B05.describe()"
   ]
  },
  {
   "cell_type": "code",
   "execution_count": 38,
   "metadata": {},
   "outputs": [
    {
     "data": {
      "text/plain": [
       "count    3000.000000\n",
       "mean      283.608944\n",
       "std       140.863134\n",
       "min         9.750000\n",
       "25%       182.500000\n",
       "50%       266.250000\n",
       "75%       359.166667\n",
       "max      1133.333333\n",
       "Name: mon_living_pay, dtype: float64"
      ]
     },
     "execution_count": 38,
     "metadata": {},
     "output_type": "execute_result"
    }
   ],
   "source": [
    "#4) 월가계지출비 = 1)생활비 +2)세금 +3)사회보장제도비 \n",
    "\n",
    "df['mon_living_pay']=df['B02']+(df['B04']+df['B05'])/12\n",
    "df['mon_living_pay']=df['mon_living_pay']\n",
    "df['mon_living_pay'].describe()"
   ]
  },
  {
   "cell_type": "code",
   "execution_count": 39,
   "metadata": {},
   "outputs": [
    {
     "data": {
      "text/plain": [
       "count    3000.000000\n",
       "mean       11.832720\n",
       "std        14.263568\n",
       "min         0.500000\n",
       "25%         4.530000\n",
       "50%         7.060000\n",
       "75%        14.675000\n",
       "max       461.540000\n",
       "Name: Schwabe, dtype: float64"
      ]
     },
     "execution_count": 39,
     "metadata": {},
     "output_type": "execute_result"
    }
   ],
   "source": [
    "# 주거빈곤율 = 슈바베 지수 \n",
    "# = 월 주거비 지출 / 월 가계 지출 *100  \n",
    "\n",
    "df['Schwabe']=df['h_expense']/df['mon_living_pay']*100\n",
    "df['Schwabe']=df['Schwabe'].round(2)\n",
    "df['Schwabe'].describe()"
   ]
  },
  {
   "cell_type": "markdown",
   "metadata": {},
   "source": [
    "### [4] 설문 응답자의 지역사회참여\n",
    "- 지역사회 참여경험 : 주민모임, 지역봉사활동, 마을공동체사업 (1~4점, 높을수록 자주참여함) \n",
    "- 추후 지역사회 참여의향 : 주민모임, 지역봉사활동, 마을공동체사업 (1~5점, 높을수록 자주참여함) \n"
   ]
  },
  {
   "cell_type": "code",
   "execution_count": 40,
   "metadata": {},
   "outputs": [
    {
     "data": {
      "text/plain": [
       "count    3000.000000\n",
       "mean        1.579222\n",
       "std         0.626574\n",
       "min         1.000000\n",
       "25%         1.000000\n",
       "50%         1.333333\n",
       "75%         2.000000\n",
       "max         4.000000\n",
       "Name: community_part, dtype: float64"
      ]
     },
     "execution_count": 40,
     "metadata": {},
     "output_type": "execute_result"
    }
   ],
   "source": [
    "# D121 : 최근 1년 간 참여 경험_반상회, 주민회의, 부녀회, 아파트, 대표자 회의, 통반장 회의\n",
    "# D12101 : 최근 1년 간 참여 경험_지역 방범활동, 청소년선도, 교통정리와 같은 지역봉사활동\n",
    "# D12102 : 최근 1년 간 참여 경험_마을주민들이 모여 지역문제를 해결하거나 문화 활동을 하는 마을공동체사업\n",
    "# 1~4점, 높을수록 자주 참여 \n",
    "\n",
    "# 위의 컬럼들의 평균점수로 지역사회참여경험을 의미하는 'community_part' 컬럼 생성.\n",
    "# 연속형 변수, 1~4점, 높을수록 경험이 많음 \n",
    "\n",
    "df['community_part']=(df['D121']+df['D12101']+df['D12102'])/3\n",
    "df['community_part'].describe()"
   ]
  },
  {
   "cell_type": "code",
   "execution_count": 41,
   "metadata": {},
   "outputs": [
    {
     "data": {
      "text/plain": [
       "count    3000.000000\n",
       "mean        1.942111\n",
       "std         0.910596\n",
       "min         1.000000\n",
       "25%         1.000000\n",
       "50%         2.000000\n",
       "75%         2.666667\n",
       "max         5.000000\n",
       "Name: community_part_will, dtype: float64"
      ]
     },
     "execution_count": 41,
     "metadata": {},
     "output_type": "execute_result"
    }
   ],
   "source": [
    "# D122 : 향후 참여 의사_반상회, 주민회의, 부녀회, 아파트, 대표자 회의, 통반장 회의\n",
    "# D12201 : 향후 참여 의사_지역 방범활동, 청소년선도, 교통정리와 같은 지역봉사활동\n",
    "# D12202 : 향후 참여 의사_마을주민들이 모여 지역문제를 해결하거나 문화 활동을 하는 마을공동체사업\n",
    "# 1~5점 : 높을수록 참여 의사 높음 \n",
    "\n",
    "# 위의 컬럼들의 평균점수로 지역사회 추후 참여의향을 의미하는 'community_part_will' 컬럼 생성.\n",
    "# 연속형 변수, 1~5점, 높을수록 경험이 많음 \n",
    "\n",
    "df['community_part_will']=(df['D122']+df['D12201']+df['D12202'])/3\n",
    "df['community_part_will'].describe()"
   ]
  },
  {
   "cell_type": "markdown",
   "metadata": {},
   "source": [
    "###  <최종 데이터셋>"
   ]
  },
  {
   "cell_type": "code",
   "execution_count": 42,
   "metadata": {
    "scrolled": true
   },
   "outputs": [
    {
     "data": {
      "text/html": [
       "<div>\n",
       "<style scoped>\n",
       "    .dataframe tbody tr th:only-of-type {\n",
       "        vertical-align: middle;\n",
       "    }\n",
       "\n",
       "    .dataframe tbody tr th {\n",
       "        vertical-align: top;\n",
       "    }\n",
       "\n",
       "    .dataframe thead th {\n",
       "        text-align: right;\n",
       "    }\n",
       "</style>\n",
       "<table border=\"1\" class=\"dataframe\">\n",
       "  <thead>\n",
       "    <tr style=\"text-align: right;\">\n",
       "      <th></th>\n",
       "      <th>gender</th>\n",
       "      <th>age</th>\n",
       "      <th>hh_type</th>\n",
       "      <th>edu</th>\n",
       "      <th>income</th>\n",
       "      <th>occupation</th>\n",
       "      <th>building_type</th>\n",
       "      <th>Schwabe</th>\n",
       "      <th>community_part</th>\n",
       "      <th>community_part_will</th>\n",
       "    </tr>\n",
       "    <tr>\n",
       "      <th>ID</th>\n",
       "      <th></th>\n",
       "      <th></th>\n",
       "      <th></th>\n",
       "      <th></th>\n",
       "      <th></th>\n",
       "      <th></th>\n",
       "      <th></th>\n",
       "      <th></th>\n",
       "      <th></th>\n",
       "      <th></th>\n",
       "    </tr>\n",
       "  </thead>\n",
       "  <tbody>\n",
       "    <tr>\n",
       "      <th>1</th>\n",
       "      <td>2.0</td>\n",
       "      <td>29.0</td>\n",
       "      <td>1</td>\n",
       "      <td>7.0</td>\n",
       "      <td>317.0</td>\n",
       "      <td>2</td>\n",
       "      <td>2</td>\n",
       "      <td>7.74</td>\n",
       "      <td>1.666667</td>\n",
       "      <td>2.000000</td>\n",
       "    </tr>\n",
       "    <tr>\n",
       "      <th>2</th>\n",
       "      <td>1.0</td>\n",
       "      <td>47.0</td>\n",
       "      <td>2</td>\n",
       "      <td>7.0</td>\n",
       "      <td>917.0</td>\n",
       "      <td>1</td>\n",
       "      <td>2</td>\n",
       "      <td>4.17</td>\n",
       "      <td>2.000000</td>\n",
       "      <td>2.666667</td>\n",
       "    </tr>\n",
       "    <tr>\n",
       "      <th>3</th>\n",
       "      <td>1.0</td>\n",
       "      <td>32.0</td>\n",
       "      <td>2</td>\n",
       "      <td>7.0</td>\n",
       "      <td>333.0</td>\n",
       "      <td>1</td>\n",
       "      <td>2</td>\n",
       "      <td>8.51</td>\n",
       "      <td>1.000000</td>\n",
       "      <td>1.000000</td>\n",
       "    </tr>\n",
       "    <tr>\n",
       "      <th>4</th>\n",
       "      <td>2.0</td>\n",
       "      <td>48.0</td>\n",
       "      <td>2</td>\n",
       "      <td>7.0</td>\n",
       "      <td>667.0</td>\n",
       "      <td>1</td>\n",
       "      <td>2</td>\n",
       "      <td>3.64</td>\n",
       "      <td>1.666667</td>\n",
       "      <td>2.000000</td>\n",
       "    </tr>\n",
       "    <tr>\n",
       "      <th>5</th>\n",
       "      <td>2.0</td>\n",
       "      <td>34.0</td>\n",
       "      <td>1</td>\n",
       "      <td>7.0</td>\n",
       "      <td>292.0</td>\n",
       "      <td>2</td>\n",
       "      <td>2</td>\n",
       "      <td>8.42</td>\n",
       "      <td>1.000000</td>\n",
       "      <td>1.000000</td>\n",
       "    </tr>\n",
       "    <tr>\n",
       "      <th>...</th>\n",
       "      <td>...</td>\n",
       "      <td>...</td>\n",
       "      <td>...</td>\n",
       "      <td>...</td>\n",
       "      <td>...</td>\n",
       "      <td>...</td>\n",
       "      <td>...</td>\n",
       "      <td>...</td>\n",
       "      <td>...</td>\n",
       "      <td>...</td>\n",
       "    </tr>\n",
       "    <tr>\n",
       "      <th>3241</th>\n",
       "      <td>2.0</td>\n",
       "      <td>38.0</td>\n",
       "      <td>2</td>\n",
       "      <td>7.0</td>\n",
       "      <td>433.0</td>\n",
       "      <td>1</td>\n",
       "      <td>2</td>\n",
       "      <td>7.58</td>\n",
       "      <td>1.333333</td>\n",
       "      <td>1.333333</td>\n",
       "    </tr>\n",
       "    <tr>\n",
       "      <th>3242</th>\n",
       "      <td>2.0</td>\n",
       "      <td>84.0</td>\n",
       "      <td>2</td>\n",
       "      <td>5.0</td>\n",
       "      <td>292.0</td>\n",
       "      <td>2</td>\n",
       "      <td>3</td>\n",
       "      <td>18.19</td>\n",
       "      <td>1.000000</td>\n",
       "      <td>1.000000</td>\n",
       "    </tr>\n",
       "    <tr>\n",
       "      <th>3243</th>\n",
       "      <td>2.0</td>\n",
       "      <td>29.0</td>\n",
       "      <td>2</td>\n",
       "      <td>6.0</td>\n",
       "      <td>500.0</td>\n",
       "      <td>2</td>\n",
       "      <td>2</td>\n",
       "      <td>2.39</td>\n",
       "      <td>1.000000</td>\n",
       "      <td>1.000000</td>\n",
       "    </tr>\n",
       "    <tr>\n",
       "      <th>3244</th>\n",
       "      <td>2.0</td>\n",
       "      <td>35.0</td>\n",
       "      <td>1</td>\n",
       "      <td>7.0</td>\n",
       "      <td>233.0</td>\n",
       "      <td>3</td>\n",
       "      <td>2</td>\n",
       "      <td>21.41</td>\n",
       "      <td>1.000000</td>\n",
       "      <td>1.000000</td>\n",
       "    </tr>\n",
       "    <tr>\n",
       "      <th>3245</th>\n",
       "      <td>2.0</td>\n",
       "      <td>30.0</td>\n",
       "      <td>2</td>\n",
       "      <td>7.0</td>\n",
       "      <td>250.0</td>\n",
       "      <td>3</td>\n",
       "      <td>2</td>\n",
       "      <td>18.11</td>\n",
       "      <td>1.000000</td>\n",
       "      <td>1.000000</td>\n",
       "    </tr>\n",
       "  </tbody>\n",
       "</table>\n",
       "<p>3000 rows × 10 columns</p>\n",
       "</div>"
      ],
      "text/plain": [
       "      gender   age  hh_type  edu  income  occupation  building_type  Schwabe  \\\n",
       "ID                                                                             \n",
       "1        2.0  29.0        1  7.0   317.0           2              2     7.74   \n",
       "2        1.0  47.0        2  7.0   917.0           1              2     4.17   \n",
       "3        1.0  32.0        2  7.0   333.0           1              2     8.51   \n",
       "4        2.0  48.0        2  7.0   667.0           1              2     3.64   \n",
       "5        2.0  34.0        1  7.0   292.0           2              2     8.42   \n",
       "...      ...   ...      ...  ...     ...         ...            ...      ...   \n",
       "3241     2.0  38.0        2  7.0   433.0           1              2     7.58   \n",
       "3242     2.0  84.0        2  5.0   292.0           2              3    18.19   \n",
       "3243     2.0  29.0        2  6.0   500.0           2              2     2.39   \n",
       "3244     2.0  35.0        1  7.0   233.0           3              2    21.41   \n",
       "3245     2.0  30.0        2  7.0   250.0           3              2    18.11   \n",
       "\n",
       "      community_part  community_part_will  \n",
       "ID                                         \n",
       "1           1.666667             2.000000  \n",
       "2           2.000000             2.666667  \n",
       "3           1.000000             1.000000  \n",
       "4           1.666667             2.000000  \n",
       "5           1.000000             1.000000  \n",
       "...              ...                  ...  \n",
       "3241        1.333333             1.333333  \n",
       "3242        1.000000             1.000000  \n",
       "3243        1.000000             1.000000  \n",
       "3244        1.000000             1.000000  \n",
       "3245        1.000000             1.000000  \n",
       "\n",
       "[3000 rows x 10 columns]"
      ]
     },
     "execution_count": 42,
     "metadata": {},
     "output_type": "execute_result"
    }
   ],
   "source": [
    "df_final=df.loc[:, 'gender':]\n",
    "df_final.drop(['interest','mon_pay','h_expense','mon_living_pay'], axis=1, inplace=True)\n",
    "df_final"
   ]
  },
  {
   "cell_type": "markdown",
   "metadata": {},
   "source": [
    "### 3. Data Description"
   ]
  },
  {
   "cell_type": "markdown",
   "metadata": {},
   "source": [
    "### 1) 설문 응답자의 성별 \n",
    "- 설문 응답자는 여성이 남성보다 더 많았음 : 여성 약 80%, 남성 약 20%\n",
    "- 이는 설문이 이루어지는 낮 시간에 여성이 남성보다 주로 더 집에 머물러 있음을 의미."
   ]
  },
  {
   "cell_type": "code",
   "execution_count": 43,
   "metadata": {
    "scrolled": true
   },
   "outputs": [
    {
     "data": {
      "image/png": "[encoded data removed]",
      "text/plain": [
       "<Figure size 360x360 with 1 Axes>"
      ]
     },
     "metadata": {
      "needs_background": "light"
     },
     "output_type": "display_data"
    }
   ],
   "source": [
    "from matplotlib import rc \n",
    "rc('font', family='AppleGothic')\n",
    "import matplotlib.pyplot as plt \n",
    "import seaborn as sns \n",
    "\n",
    "fig, ax= plt.subplots(1,1,figsize=(5,5))\n",
    "sns.countplot(data=df_final, x='gender', ax=ax)\n",
    "ax.set_title('응답자의 성별분포', fontweight='bold')\n",
    "ax.set_xticklabels(['남성','여성'])\n",
    "plt.show()"
   ]
  },
  {
   "cell_type": "markdown",
   "metadata": {},
   "source": [
    "### 2) 설문 응답자의 연령층 \n",
    "- 설문 응답자의 연령층은 주로 3~60대를 형성. \n",
    "- 위의 성별 분포와 함께 보았을 때 이는 남성에 비해 상대적으로 여성의 경제활동참여가 낮다는 사실을 반영하는 것이기도 함."
   ]
  },
  {
   "cell_type": "code",
   "execution_count": 44,
   "metadata": {},
   "outputs": [
    {
     "data": {
      "image/png": "[encoded data removed]",
      "text/plain": [
       "<Figure size 864x720 with 2 Axes>"
      ]
     },
     "metadata": {
      "needs_background": "light"
     },
     "output_type": "display_data"
    }
   ],
   "source": [
    "fig = plt.figure(figsize=(12,10))\n",
    "ax1=fig.add_subplot(2,1,1)\n",
    "ax2=fig.add_subplot(2,1,2)\n",
    "\n",
    "sns.distplot(df_final.age, kde=False, ax=ax1)\n",
    "ax1.set_title('응답자의 연령분포')\n",
    "\n",
    "bins=[0,20,31,41,51,61,71,81,100]  \n",
    "df_final['age_category']=pd.cut(df_final['age'], bins, labels=['10s','20s', '30s', '40s','50s','60s','70s', '80s+'])\n",
    "sns.countplot(data=df_final, x='age_category', ax=ax2, hue='gender')\n",
    "ax2.set_title('응답자의 성별 연령분포')\n",
    "\n",
    "plt.show()"
   ]
  },
  {
   "cell_type": "markdown",
   "metadata": {},
   "source": [
    "### 3) 설문 응답자의 교육수준\n",
    "- 고졸 > 대학(4년제이상) > 대학(4년제미만) > 중졸 > 초졸 > 대학원(석사) > 무학 순임. \n",
    "- 응답자의 대다수가 베이비부머 세대 > 30대인 것과 일치하는 분포임. (베비이부머 세대는 대체로 고졸이 많으며 80년대에 태어난 지금의 30대는 한국 사회에서 가장 높은 교육수준을 보여주고 있음) "
   ]
  },
  {
   "cell_type": "code",
   "execution_count": 45,
   "metadata": {},
   "outputs": [
    {
     "data": {
      "image/png": "[encoded data removed]",
      "text/plain": [
       "<Figure size 864x360 with 1 Axes>"
      ]
     },
     "metadata": {
      "needs_background": "light"
     },
     "output_type": "display_data"
    }
   ],
   "source": [
    "fig, ax= plt.subplots(1,1,figsize=(12,5))\n",
    "sns.countplot(data=df_final, x='edu', ax=ax)\n",
    "ax.set_title('응답자의 교육수준')\n",
    "ax.set_xticklabels(['무학','초졸','중졸', '고졸', '대학(4년제미만)','대학(4년제이상)','대학원(석사)', '대학원(박사)'])\n",
    "plt.show()"
   ]
  },
  {
   "cell_type": "markdown",
   "metadata": {},
   "source": [
    "### 4) 설문 응답자의 2017년 가구 평균 월소득(만원) 분포\n",
    "- 이상치를 제외한 나머지 대체로 200만원 이상~600만원 미만에 분포.\n",
    "- 연령층에 따른 소득분포를 보면 일반적인 생애주기에 따른 소득 분포와 일치함. 한편 6-70대 응답자가 속한 가구는 200만원 미만에 다수 분포하고 있음. 이는 익히 알려진 한국의 노인 빈곤을 반영하고 있음\n",
    "- 가구유형별 소득분포를 보면 다인가구는 골고루 분포하고 있고 안정적인 소득을 가지고 있는 것으로 판단되는 반면, 1인가구는 100만원-300만원 미만에 주로 분포하고 있음. 연령별 분포에서 200만원-300만원 미만에 20대~30대 층이 많이 분포하고 있는 것으로 보아 100만원-300만원 미만에 속한 1인가구는 주로 청년층임을 추측할 수 있음. 또한 200만원 미만 소득구간에 속하는 1인가구도 연령별 소득분포로 봤을 때 노인 1인가구임을 추측할 수 있음. \n",
    "- 이러한 분포는 많은 1인가구들이 주로 낮은 소득으로 생활하고 있음을 시사."
   ]
  },
  {
   "cell_type": "code",
   "execution_count": 46,
   "metadata": {},
   "outputs": [
    {
     "data": {
      "image/png": "[encoded data removed]",
      "text/plain": [
       "<Figure size 1080x720 with 2 Axes>"
      ]
     },
     "metadata": {
      "needs_background": "light"
     },
     "output_type": "display_data"
    }
   ],
   "source": [
    "fig = plt.figure(figsize=(15,10))\n",
    "ax1=fig.add_subplot(2,1,1)\n",
    "ax2=fig.add_subplot(2,1,2)\n",
    "\n",
    "bins=[0,100,200, 300, 400, 500, 600, 1000]\n",
    "df_final['income_category']=pd.cut(df_final['income'], bins)\n",
    "sns.countplot(data=df_final, x='income_category', ax=ax1, hue='age_category')\n",
    "ax1.set_title('응답자의 월평균 소득분포(지난해기준, 연령별)')\n",
    "ax1.set_xticklabels(['100만원미만','100~200만원미만', '200~300만원미만', '300~400만원미만', \n",
    "                     '400~500만원미만', '500~600만원미만', '600만원이상'])\n",
    "\n",
    "sns.countplot(data=df_final, x='income_category', ax=ax2, hue='hh_type')\n",
    "ax2.set_title('응답자의 월평균 소득분포(지난해기준, 가구유형별)')\n",
    "ax2.set_xticklabels(['100만원미만','100~200만원미만', '200~300만원미만', '300~400만원미만', \n",
    "                     '400~500만원미만', '500~600만원미만', '600만원이상'])\n",
    "plt.legend(labels=['1인가구', '다인가구', '그외'])\n",
    "plt.show()"
   ]
  },
  {
   "cell_type": "markdown",
   "metadata": {},
   "source": [
    "### 5) 설문응답자의 주거점유형태 \n",
    "\n",
    "- 자가 > 전세 > 월세 > 기타 순 \n",
    "- 1인 가구의 경우 전월세가 자가보다 많으며, 다인가구는 자가가 가장 많음. "
   ]
  },
  {
   "cell_type": "code",
   "execution_count": 47,
   "metadata": {},
   "outputs": [
    {
     "data": {
      "image/png": "[encoded data removed]",
      "text/plain": [
       "<Figure size 504x360 with 1 Axes>"
      ]
     },
     "metadata": {
      "needs_background": "light"
     },
     "output_type": "display_data"
    }
   ],
   "source": [
    "fig, ax= plt.subplots(1,1,figsize=(7,5))\n",
    "sns.countplot(data=df_final, x='occupation', ax=ax, hue='hh_type')\n",
    "ax.set_title('가구유형별 주거점유형태')\n",
    "ax.set_xticklabels(['자가', '전세', '월세', '기타'])\n",
    "plt.legend(labels=['1인가구', '다인가구', '그외'])\n",
    "plt.show()"
   ]
  },
  {
   "cell_type": "markdown",
   "metadata": {},
   "source": [
    "### 5) 설문응답자의 거주건물유형\n",
    "- 다세대/다가구/연립주택/오피스텔 > 아파트 > 단독주택 > 원룸 > 기타 순\n",
    "- 점유유형별로 보면, 자가의 경우 아파트가 가장 많았고 전월세는 다가구/다세대/연립주택/오피스텔이 가장 많았음. \n",
    "- 한국 도시의 일반적인 가구 모습을 잘 반영하고 있음. \n",
    "- 연령, 가구유형, 주거점유형태와 함께 종합해봤을 때 청년층, 노인층 1인가구가 전월세의 형태로 다세대/다가구/연립주택/오피스텔에 많이 거주하는 것으로 보임. \n",
    "- 청년 및 노인 1인가구의 소득수준이 높지 않다는 사실을 고려해보면 이들의 주거안정성이 낮다고 결론지을 수 있음."
   ]
  },
  {
   "cell_type": "code",
   "execution_count": 48,
   "metadata": {},
   "outputs": [
    {
     "data": {
      "image/png": "[encoded data removed]",
      "text/plain": [
       "<Figure size 864x360 with 1 Axes>"
      ]
     },
     "metadata": {
      "needs_background": "light"
     },
     "output_type": "display_data"
    }
   ],
   "source": [
    "fig, ax1= plt.subplots(figsize=(12,5))\n",
    "sns.countplot(data=df_final, x='building_type', ax=ax1, hue='hh_type')\n",
    "ax1.set_title('설문응답자의 거주건물유형(가구유형별)')\n",
    "ax1.set_xticklabels(['아파트', '다세대/다가구/연립주택/오피스텔', '단독주택', '원룸', '기타'])\n",
    "plt.legend(labels=['1인가구', '다인가구', '그외'])\n",
    "plt.show()"
   ]
  },
  {
   "cell_type": "code",
   "execution_count": 49,
   "metadata": {},
   "outputs": [
    {
     "data": {
      "image/png": "[encoded data removed]",
      "text/plain": [
       "<Figure size 864x360 with 1 Axes>"
      ]
     },
     "metadata": {
      "needs_background": "light"
     },
     "output_type": "display_data"
    }
   ],
   "source": [
    "fig, ax2= plt.subplots(figsize=(12,5))\n",
    "sns.countplot(data=df_final, x='building_type', ax=ax2, hue='occupation')\n",
    "ax2.set_title('설문응답자의 거주건물유형(점유유형별)')\n",
    "ax2.set_xticklabels(['아파트', '다세대/다가구/연립주택/오피스텔', '단독주택', '원룸', '기타'])\n",
    "plt.legend(labels=['자가', '전세', '월세', '기타'])\n",
    "plt.show()"
   ]
  },
  {
   "cell_type": "markdown",
   "metadata": {},
   "source": [
    "### 6) 설문응답자의 주거빈곤율(슈바베지수)\n",
    "- 슈바베지수는 수치에 따라 다음과 같이 구분할 수 있음  \n",
    "> 25미만 : 주거빈곤낮음  \n",
    "25~60미만 : 주거빈곤높음  \n",
    "60이상 : 주거빈곤심각 \n",
    "\n",
    "- 가구유형별로 주거빈곤을 보면 다인가구는 대체로 주거빈곤이 낮으나 1인가구의 경우 주거빈곤이 낮은 경우와 높은 경우의 차이가 크지 않음. \n",
    "- 이는 앞서 1인가구의 주거안정성이 낮다는 사실과 같은 맥락임. "
   ]
  },
  {
   "cell_type": "code",
   "execution_count": 50,
   "metadata": {},
   "outputs": [
    {
     "data": {
      "image/png": "[encoded data removed]",
      "text/plain": [
       "<Figure size 504x360 with 1 Axes>"
      ]
     },
     "metadata": {
      "needs_background": "light"
     },
     "output_type": "display_data"
    }
   ],
   "source": [
    "fig, ax=plt.subplots(figsize=(7,5))\n",
    "\n",
    "bins=[0,25,60,500]\n",
    "df_final['Schwabe_category']=pd.cut(df_final['Schwabe'], bins, labels=['25미만','25~60미만', '60이상'])\n",
    "sns.countplot(data=df_final, x='Schwabe_category', ax=ax, hue='hh_type') \n",
    "ax.set_title(\"설문응답자의 주거빈곤율\")\n",
    "plt.legend(['1인가구','다인가구', '기타'])\n",
    "plt.show()"
   ]
  },
  {
   "cell_type": "markdown",
   "metadata": {},
   "source": [
    "### 7) 설문응답자의 지역사회참여 \n",
    "> - 지역사회참여경험(1~4점, 높을수록 참여경험 많음)  \n",
    "> - 추후 지역사회참여의향(1~5점, 높을수록 참여의향 높음) \n",
    "\n",
    "- 설문응답자들의 지역사회참여는 대체로 낮음. \n",
    "- 지역사회참여와 참여의향간에는 선형관계가 존재하는 것으로 나타남"
   ]
  },
  {
   "cell_type": "code",
   "execution_count": 51,
   "metadata": {
    "scrolled": true
   },
   "outputs": [
    {
     "data": {
      "image/png": "[encoded data removed]",
      "text/plain": [
       "<Figure size 1080x360 with 2 Axes>"
      ]
     },
     "metadata": {
      "needs_background": "light"
     },
     "output_type": "display_data"
    }
   ],
   "source": [
    "fig=plt.figure(figsize=(15,5))\n",
    "ax1=fig.add_subplot(1,2,1)\n",
    "ax2=fig.add_subplot(1,2,2)\n",
    "\n",
    "sns.distplot(df_final['community_part'], kde=False, ax=ax1)\n",
    "ax1.set_title(\"설문응답자의 지역사회참여경험\")\n",
    "\n",
    "sns.distplot(df_final['community_part_will'], kde=False, ax=ax2)\n",
    "ax2.set_title(\"설문응답자의 추후 지역사회참여의향\")\n",
    "plt.show()"
   ]
  },
  {
   "cell_type": "code",
   "execution_count": 52,
   "metadata": {},
   "outputs": [
    {
     "data": {
      "image/png": "[encoded data removed]",
      "text/plain": [
       "<Figure size 432x288 with 1 Axes>"
      ]
     },
     "metadata": {
      "needs_background": "light"
     },
     "output_type": "display_data"
    }
   ],
   "source": [
    "sns.regplot(data=df_final, x='community_part', y='community_part_will')\n",
    "plt.title(\"지역사회참여경험과 추후참여의향\")\n",
    "plt.show()"
   ]
  },
  {
   "cell_type": "markdown",
   "metadata": {},
   "source": [
    "### 4. Data Analysis\n",
    "### 1) 설문응답자의 인구/사회/경제/주거 특성 및 주거빈곤과 지역사회참여   \n",
    "1.지역사회참여경험      \n",
    "- 지역사회참여경험과 참여의향 모두 그 수준 자체가 저조하기 때문에 인구/사회경제적 특성 및 주거요인과 두드러진 상관관계는 보이지 않음. \n",
    "- 다만 각 변수들마다 이상치가 존재하는데 이 이상치를 들여다보는 것이 유의미할 수도 있다는 판단.  \n",
    "- 이상치 중에서 주목할 부분은 주거안정성이 낮은 1인가구 중 높은 참여의향을 보이는 경우임. 이 사례를 깊게 분석하면 지역사회참여에 영향을 미치는 또 다른 중요한 변수를 찾을 가능성이 존재한다고 판단됨. 주거정책은 장기전이므로 다른 변수를 찾아낸다면 지역사회참여 향상을 위한 별도의 방안을 생각해볼 수 있을 것이라 사료됨."
   ]
  },
  {
   "cell_type": "code",
   "execution_count": 53,
   "metadata": {},
   "outputs": [
    {
     "data": {
      "text/plain": [
       "Text(0.5, 1.0, '주거빈곤율과 지역사회참여')"
      ]
     },
     "execution_count": 53,
     "metadata": {},
     "output_type": "execute_result"
    },
    {
     "data": {
      "image/png": "[encoded data removed]",
      "text/plain": [
       "<Figure size 1800x2160 with 8 Axes>"
      ]
     },
     "metadata": {
      "needs_background": "light"
     },
     "output_type": "display_data"
    }
   ],
   "source": [
    "figure, ((ax1,ax2), (ax3, ax4), (ax5,ax6), (ax7, ax8))=plt.subplots(nrows=4, ncols=2,  figsize=(25,30))\n",
    "\n",
    "sns.boxplot(data=df_final, x='gender', y='community_part', ax=ax1)\n",
    "ax1.set_title(\"성별 지역사회참여\", fontsize=20)\n",
    "ax1.set_xticklabels(['남성', '여성'])\n",
    "\n",
    "sns.boxplot(data=df_final, x='age_category', y='community_part', ax=ax2)\n",
    "ax2.set_title(\"연령별 지역사회참여\", fontsize=20)\n",
    "\n",
    "sns.boxplot(data=df_final, x='hh_type', y='community_part', ax=ax3)\n",
    "ax3.set_title(\"가구유형별 지역사회참여\", fontsize=20)\n",
    "ax3.set_xticklabels(['1인가구', '다인가구', '그외'])\n",
    "\n",
    "sns.boxplot(data=df_final, x='edu', y='community_part', ax=ax4)\n",
    "ax4.set_title(\"교육수준별 지역사회참여\", fontsize=20)\n",
    "ax4.set_xticklabels(['무학', '초졸', '중졸','고졸', '대졸(4년제미만)', '대졸(4년제이상)', '대학원(석사)', '대학원(박사)'])\n",
    "\n",
    "sns.boxplot(data=df_final, x='income_category', y='community_part', ax=ax5)\n",
    "ax5.set_title(\"월평균 소득수준별 지역사회참여\", fontsize=20)\n",
    "ax5.set_xticklabels(['100만원미만','1~200만원미만', '2~300만원미만', '3~400만원미만', \n",
    "                     '4~500만원미만', '5~600만원미만', '600만원이상'], rotation=20)\n",
    "\n",
    "sns.boxplot(data=df_final, x='building_type', y='community_part', ax=ax6)\n",
    "ax6.set_title(\"거주건물유형별 지역사회참여\", fontsize=20)\n",
    "ax6.set_xticklabels(['아파트', '다세대/다가구/연립주택/오피스텔', '단독주택', '원룸', '기타'])\n",
    "\n",
    "sns.boxplot(data=df_final, x='Schwabe_category', y='community_part', ax=ax7)\n",
    "ax7.set_title(\"주거빈곤율과 지역사회참여\", fontsize=20)\n"
   ]
  },
  {
   "cell_type": "code",
   "execution_count": 54,
   "metadata": {},
   "outputs": [
    {
     "data": {
      "text/plain": [
       "Text(0.5, 1.0, '주거빈곤율과 지역사회참여의향')"
      ]
     },
     "execution_count": 54,
     "metadata": {},
     "output_type": "execute_result"
    },
    {
     "data": {
      "image/png": "[encoded data removed]",
      "text/plain": [
       "<Figure size 1800x2160 with 8 Axes>"
      ]
     },
     "metadata": {
      "needs_background": "light"
     },
     "output_type": "display_data"
    }
   ],
   "source": [
    "figure, ((ax1,ax2), (ax3, ax4), (ax5,ax6), (ax7, ax8))=plt.subplots(nrows=4, ncols=2, figsize=(25,30))\n",
    "\n",
    "sns.boxplot(data=df_final, x='gender', y='community_part_will', ax=ax1)\n",
    "ax1.set_title(\"성별 지역사회참여의향\", fontsize=20)\n",
    "ax1.set_xticklabels(['남성', '여성'])\n",
    "\n",
    "sns.boxplot(data=df_final, x='age_category', y='community_part_will', ax=ax2)\n",
    "ax2.set_title(\"연령별 지역사회참여의향\", fontsize=20)\n",
    "\n",
    "sns.boxplot(data=df_final, x='hh_type', y='community_part_will', ax=ax3)\n",
    "ax3.set_title(\"가구유형별 지역사회참여의향\", fontsize=20)\n",
    "ax3.set_xticklabels(['1인가구', '다인가구', '그외'])\n",
    "\n",
    "sns.boxplot(data=df_final, x='edu', y='community_part_will', ax=ax4)\n",
    "ax4.set_title(\"교육수준별 지역사회참여의향\", fontsize=20)\n",
    "ax4.set_xticklabels(['무학', '초졸', '중졸','고졸', '대졸(4년제미만)', '대졸(4년제이상)', '대학원(석사)', '대학원(박사)'])\n",
    "\n",
    "sns.boxplot(data=df_final, x='income_category', y='community_part_will', ax=ax5)\n",
    "ax5.set_title(\"월평균 소득수준별 지역사회참여의향\", fontsize=20)\n",
    "ax5.set_xticklabels(['100만원미만','1~200만원미만', '2~300만원미만', '3~400만원미만', \n",
    "                     '4~500만원미만', '5~600만원미만', '600만원이상'], rotation=20)\n",
    "\n",
    "sns.boxplot(data=df_final, x='building_type', y='community_part_will', ax=ax6)\n",
    "ax6.set_title(\"거주건물유형별 지역사회참여의향\", fontsize=20)\n",
    "ax6.set_xticklabels(['아파트', '다세대/다가구/연립주택/오피스텔', '단독주택', '원룸', '기타'])\n",
    "\n",
    "sns.boxplot(data=df_final, x='Schwabe_category', y='community_part_will', ax=ax7)\n",
    "ax7.set_title(\"주거빈곤율과 지역사회참여의향\", fontsize=20)\n"
   ]
  },
  {
   "cell_type": "markdown",
   "metadata": {},
   "source": [
    "### 2) 이상치값 분석 \n",
    "- 주거빈곤이 높음에도 높은 사회참여의향을 보이는 이상치를 분석 \n",
    "- 분석 결과 다음과 같은 인구사회경제학적 특징을 가짐 :  \n",
    "> A(ID=1179) : 60대, 고졸, 1인가구, 소득수준 100-200미만, 연립주택에서 월세로 거주  \n",
    "> B(ID=3156) : 50대, 전문대졸, 1인가구, 소득수준 100~200미만, 연립주택에서 월세로 거주  \n",
    "- 주거빈곤은 B보다 A가 높으나 둘 모두 주거빈곤을 겪고있는 상태임은 동일함  \n",
    "- A, B는 인구사회경제학적 특징이 크게 차이나지 않는 것으로 판단됨. 또한 지역사회에 추후 참여할 의향은 둘 모두 3점 이상으로 적극적인 것으로 판단됨. "
   ]
  },
  {
   "cell_type": "code",
   "execution_count": 55,
   "metadata": {
    "scrolled": true
   },
   "outputs": [
    {
     "data": {
      "text/html": [
       "<div>\n",
       "<style scoped>\n",
       "    .dataframe tbody tr th:only-of-type {\n",
       "        vertical-align: middle;\n",
       "    }\n",
       "\n",
       "    .dataframe tbody tr th {\n",
       "        vertical-align: top;\n",
       "    }\n",
       "\n",
       "    .dataframe thead th {\n",
       "        text-align: right;\n",
       "    }\n",
       "</style>\n",
       "<table border=\"1\" class=\"dataframe\">\n",
       "  <thead>\n",
       "    <tr style=\"text-align: right;\">\n",
       "      <th></th>\n",
       "      <th>gender</th>\n",
       "      <th>age</th>\n",
       "      <th>hh_type</th>\n",
       "      <th>edu</th>\n",
       "      <th>income</th>\n",
       "      <th>occupation</th>\n",
       "      <th>building_type</th>\n",
       "      <th>Schwabe</th>\n",
       "      <th>community_part</th>\n",
       "      <th>community_part_will</th>\n",
       "      <th>age_category</th>\n",
       "      <th>income_category</th>\n",
       "      <th>Schwabe_category</th>\n",
       "    </tr>\n",
       "    <tr>\n",
       "      <th>ID</th>\n",
       "      <th></th>\n",
       "      <th></th>\n",
       "      <th></th>\n",
       "      <th></th>\n",
       "      <th></th>\n",
       "      <th></th>\n",
       "      <th></th>\n",
       "      <th></th>\n",
       "      <th></th>\n",
       "      <th></th>\n",
       "      <th></th>\n",
       "      <th></th>\n",
       "      <th></th>\n",
       "    </tr>\n",
       "  </thead>\n",
       "  <tbody>\n",
       "    <tr>\n",
       "      <th>1179</th>\n",
       "      <td>2.0</td>\n",
       "      <td>68.0</td>\n",
       "      <td>1</td>\n",
       "      <td>3.0</td>\n",
       "      <td>117.0</td>\n",
       "      <td>3</td>\n",
       "      <td>2</td>\n",
       "      <td>45.88</td>\n",
       "      <td>2.666667</td>\n",
       "      <td>3.666667</td>\n",
       "      <td>60s</td>\n",
       "      <td>(100, 200]</td>\n",
       "      <td>25~60미만</td>\n",
       "    </tr>\n",
       "    <tr>\n",
       "      <th>3156</th>\n",
       "      <td>2.0</td>\n",
       "      <td>53.0</td>\n",
       "      <td>1</td>\n",
       "      <td>5.0</td>\n",
       "      <td>167.0</td>\n",
       "      <td>3</td>\n",
       "      <td>2</td>\n",
       "      <td>27.22</td>\n",
       "      <td>3.666667</td>\n",
       "      <td>4.000000</td>\n",
       "      <td>50s</td>\n",
       "      <td>(100, 200]</td>\n",
       "      <td>25~60미만</td>\n",
       "    </tr>\n",
       "  </tbody>\n",
       "</table>\n",
       "</div>"
      ],
      "text/plain": [
       "      gender   age  hh_type  edu  income  occupation  building_type  Schwabe  \\\n",
       "ID                                                                             \n",
       "1179     2.0  68.0        1  3.0   117.0           3              2    45.88   \n",
       "3156     2.0  53.0        1  5.0   167.0           3              2    27.22   \n",
       "\n",
       "      community_part  community_part_will age_category income_category  \\\n",
       "ID                                                                       \n",
       "1179        2.666667             3.666667          60s      (100, 200]   \n",
       "3156        3.666667             4.000000          50s      (100, 200]   \n",
       "\n",
       "     Schwabe_category  \n",
       "ID                     \n",
       "1179          25~60미만  \n",
       "3156          25~60미만  "
      ]
     },
     "execution_count": 55,
     "metadata": {},
     "output_type": "execute_result"
    }
   ],
   "source": [
    "outlier_1= df_final[(df_final.income<300)&(df_final.hh_type==1)&(df_final.Schwabe>=25)\n",
    "                    &(df_final.community_part_will>3)]\n",
    "outlier_1"
   ]
  },
  {
   "cell_type": "markdown",
   "metadata": {},
   "source": [
    "- 인구사회경제학적 특징 이외 A,B는 다음과 같은 공통된 특징을 가짐 :\n",
    "> 경제활동에 참여하고 있음  \n",
    "> 여가활동을 함께하는 사람이 존재함  \n",
    "> 정부나 서울시에서 중장년층을 위해 제공하는 일자리 서비스를 잘 알고 있고 적어도 한 개는 이용해 본적이 있음 "
   ]
  },
  {
   "cell_type": "code",
   "execution_count": 56,
   "metadata": {},
   "outputs": [
    {
     "data": {
      "text/plain": [
       "ID\n",
       "1179    2.0\n",
       "3156    3.0\n",
       "Name: E33, dtype: float64"
      ]
     },
     "execution_count": 56,
     "metadata": {},
     "output_type": "execute_result"
    }
   ],
   "source": [
    "## 혼자사는 것에 대한 만족감\n",
    "# E33 : 1=불만족, 2=별로 만족하지 않음, 3=보통, 4=약간 만족, 5=매우 만족\n",
    "\n",
    "df.loc[[1179, 3156],'E33']"
   ]
  },
  {
   "cell_type": "code",
   "execution_count": 57,
   "metadata": {},
   "outputs": [
    {
     "data": {
      "text/html": [
       "<div>\n",
       "<style scoped>\n",
       "    .dataframe tbody tr th:only-of-type {\n",
       "        vertical-align: middle;\n",
       "    }\n",
       "\n",
       "    .dataframe tbody tr th {\n",
       "        vertical-align: top;\n",
       "    }\n",
       "\n",
       "    .dataframe thead th {\n",
       "        text-align: right;\n",
       "    }\n",
       "</style>\n",
       "<table border=\"1\" class=\"dataframe\">\n",
       "  <thead>\n",
       "    <tr style=\"text-align: right;\">\n",
       "      <th></th>\n",
       "      <th>B011</th>\n",
       "      <th>B013</th>\n",
       "      <th>B014</th>\n",
       "    </tr>\n",
       "    <tr>\n",
       "      <th>ID</th>\n",
       "      <th></th>\n",
       "      <th></th>\n",
       "      <th></th>\n",
       "    </tr>\n",
       "  </thead>\n",
       "  <tbody>\n",
       "    <tr>\n",
       "      <th>1179</th>\n",
       "      <td>2</td>\n",
       "      <td>3</td>\n",
       "      <td>8.0</td>\n",
       "    </tr>\n",
       "    <tr>\n",
       "      <th>3156</th>\n",
       "      <td>2</td>\n",
       "      <td>1</td>\n",
       "      <td>5.0</td>\n",
       "    </tr>\n",
       "  </tbody>\n",
       "</table>\n",
       "</div>"
      ],
      "text/plain": [
       "      B011  B013  B014\n",
       "ID                    \n",
       "1179     2     3   8.0\n",
       "3156     2     1   5.0"
      ]
     },
     "execution_count": 57,
     "metadata": {},
     "output_type": "execute_result"
    }
   ],
   "source": [
    "##경제활동참여 - 왼쪽부터 차례대로 : \n",
    "#B011 : 근로능력 (0=비해당, 1=근로가능 2=단순근로가능(집에서 돈벌이 하는 정도), 3=단순그로미약자(집안일만 가능), 4=근로능력없음(집안일도 불가능) \n",
    "#B013 : 경제활동참여 상태 (1=상용직, 3=일용직) \n",
    "#B014 : 직종 (5=판매직, 8=단순노무직)\n",
    "\n",
    "df.loc[[1179, 3156], ['B011', 'B013', 'B014']]"
   ]
  },
  {
   "cell_type": "code",
   "execution_count": 58,
   "metadata": {},
   "outputs": [
    {
     "data": {
      "text/plain": [
       "ID\n",
       "1179    3\n",
       "3156    4\n",
       "Name: D01, dtype: int64"
      ]
     },
     "execution_count": 58,
     "metadata": {},
     "output_type": "execute_result"
    }
   ],
   "source": [
    "##가족생활 만족도\n",
    "#D01 : 1=매우 불만족, 2= 대체로 불만족 3=보통, 4=대체로 만족, 5=매우 만족\n",
    "\n",
    "df.loc[[1179, 3156],'D01']"
   ]
  },
  {
   "cell_type": "code",
   "execution_count": 59,
   "metadata": {},
   "outputs": [
    {
     "data": {
      "text/plain": [
       "ID\n",
       "1179    2\n",
       "3156    5\n",
       "Name: D11, dtype: int64"
      ]
     },
     "execution_count": 59,
     "metadata": {},
     "output_type": "execute_result"
    }
   ],
   "source": [
    "## 여가활동 함께하는 사람 \n",
    "#D11 :2=이웃, 5=가족/친척\n",
    "\n",
    "df.loc[[1179, 3156],'D11']"
   ]
  },
  {
   "cell_type": "code",
   "execution_count": 60,
   "metadata": {},
   "outputs": [
    {
     "data": {
      "text/html": [
       "<div>\n",
       "<style scoped>\n",
       "    .dataframe tbody tr th:only-of-type {\n",
       "        vertical-align: middle;\n",
       "    }\n",
       "\n",
       "    .dataframe tbody tr th {\n",
       "        vertical-align: top;\n",
       "    }\n",
       "\n",
       "    .dataframe thead th {\n",
       "        text-align: right;\n",
       "    }\n",
       "</style>\n",
       "<table border=\"1\" class=\"dataframe\">\n",
       "  <thead>\n",
       "    <tr style=\"text-align: right;\">\n",
       "      <th></th>\n",
       "      <th>E051</th>\n",
       "      <th>E05101</th>\n",
       "      <th>E05102</th>\n",
       "      <th>E05103</th>\n",
       "      <th>E05104</th>\n",
       "    </tr>\n",
       "    <tr>\n",
       "      <th>ID</th>\n",
       "      <th></th>\n",
       "      <th></th>\n",
       "      <th></th>\n",
       "      <th></th>\n",
       "      <th></th>\n",
       "    </tr>\n",
       "  </thead>\n",
       "  <tbody>\n",
       "    <tr>\n",
       "      <th>1179</th>\n",
       "      <td>4</td>\n",
       "      <td>4</td>\n",
       "      <td>4</td>\n",
       "      <td>1</td>\n",
       "      <td>1</td>\n",
       "    </tr>\n",
       "    <tr>\n",
       "      <th>3156</th>\n",
       "      <td>2</td>\n",
       "      <td>3</td>\n",
       "      <td>3</td>\n",
       "      <td>2</td>\n",
       "      <td>2</td>\n",
       "    </tr>\n",
       "  </tbody>\n",
       "</table>\n",
       "</div>"
      ],
      "text/plain": [
       "      E051  E05101  E05102  E05103  E05104\n",
       "ID                                        \n",
       "1179     4       4       4       1       1\n",
       "3156     2       3       3       2       2"
      ]
     },
     "execution_count": 60,
     "metadata": {},
     "output_type": "execute_result"
    }
   ],
   "source": [
    "## 정부 및 서울시에서 제공하는 고용지원서비스에 대한 인식 \n",
    "# 공공근로(E051), 자활지원사업(E05101), 어르신사회활동지원사업(E05102), \n",
    "# 50+세대를위한 보람일자리(E05103), 서울시 뉴딜일자리(E05104) \n",
    "# 1~4점, 높을수록 잘 알고 있음 \n",
    "\n",
    "df.loc[[1179, 3156],'E051':'E05104']"
   ]
  },
  {
   "cell_type": "code",
   "execution_count": 61,
   "metadata": {
    "scrolled": true
   },
   "outputs": [
    {
     "data": {
      "text/html": [
       "<div>\n",
       "<style scoped>\n",
       "    .dataframe tbody tr th:only-of-type {\n",
       "        vertical-align: middle;\n",
       "    }\n",
       "\n",
       "    .dataframe tbody tr th {\n",
       "        vertical-align: top;\n",
       "    }\n",
       "\n",
       "    .dataframe thead th {\n",
       "        text-align: right;\n",
       "    }\n",
       "</style>\n",
       "<table border=\"1\" class=\"dataframe\">\n",
       "  <thead>\n",
       "    <tr style=\"text-align: right;\">\n",
       "      <th></th>\n",
       "      <th>E052</th>\n",
       "      <th>E05201</th>\n",
       "      <th>E05202</th>\n",
       "      <th>E05203</th>\n",
       "      <th>E05204</th>\n",
       "    </tr>\n",
       "    <tr>\n",
       "      <th>ID</th>\n",
       "      <th></th>\n",
       "      <th></th>\n",
       "      <th></th>\n",
       "      <th></th>\n",
       "      <th></th>\n",
       "    </tr>\n",
       "  </thead>\n",
       "  <tbody>\n",
       "    <tr>\n",
       "      <th>1179</th>\n",
       "      <td>1</td>\n",
       "      <td>2</td>\n",
       "      <td>1</td>\n",
       "      <td>3</td>\n",
       "      <td>3</td>\n",
       "    </tr>\n",
       "    <tr>\n",
       "      <th>3156</th>\n",
       "      <td>3</td>\n",
       "      <td>2</td>\n",
       "      <td>3</td>\n",
       "      <td>3</td>\n",
       "      <td>3</td>\n",
       "    </tr>\n",
       "  </tbody>\n",
       "</table>\n",
       "</div>"
      ],
      "text/plain": [
       "      E052  E05201  E05202  E05203  E05204\n",
       "ID                                        \n",
       "1179     1       2       1       3       3\n",
       "3156     3       2       3       3       3"
      ]
     },
     "execution_count": 61,
     "metadata": {},
     "output_type": "execute_result"
    }
   ],
   "source": [
    "## 정부 및 서울시에서 제공하는 고용지원서비스에 대한 이용경험 \n",
    "# 공공근로(E051), 자활지원사업(E05101), 어르신사회활동지원사업(E05102), \n",
    "# 50+세대를위한 보람일자리(E05103), 서울시 뉴딜일자리(E05104)\n",
    "# 1= 현재 이용하고 있음, 2=과거에 이용해보았음, 3=없음 \n",
    "\n",
    "df.loc[[1179, 3156],'E052':'E05204']"
   ]
  },
  {
   "cell_type": "markdown",
   "metadata": {},
   "source": [
    "### 5. Conclusion \n",
    "- 서울시의 복지실태조사의 설문응답자들은 지역사회 참여와 참여의향이 대체로 낮은 이유로 ",
    "   본 데이터를 통해서는 응답자들의 여러 특성과 지역사회참여정도에 대해 큰 상관관계를 발견하기 어려웠음\n",
    "- 다만 주거빈곤을 겪고 있음에도 추후에 지역사회 참여의향이 높은 응답자들이 있었음\n",
    "- 이 응답자들을 살펴보니 공통적으로 타인과의 네트워크를 유지하고 있었음  ",
    "   즉 직장을 다니고 있었고, 여가 활동을 함께하는 이웃이나 가족이 있는 등 1인가구 임에도 고립된 생활을 하고 있지 않았음.\n",
    "- 또한 정부나 서울시에서 지원하고 있는 고용서비스에 대해서 잘 알고 있었고 이용해본 경험도 있었음. 이러한 정부 지원 서비스를 통해 이들은 가족, 직장동료, 이웃 이외 또다른 네트워크에 배태되어 있을 것이라 생각됨\n",
    "- 이는 서울시가 앞으로 시민들, 특히 급증하는 1인가구들이 지역 공동체에 관심을 가지도록 유도하기 위해서는 주거빈곤을 해결하는 노력과 함께 공동체 네트워크를 회복시키는 노력 또한 함께 병행해야 함을 시사 "
   ]
  },
  {
   "cell_type": "code",
   "execution_count": null,
   "metadata": {},
   "outputs": [],
   "source": []
  }
 ],
 "metadata": {
  "kernelspec": {
   "display_name": "Python 3",
   "language": "python",
   "name": "python3"
  },
  "language_info": {
   "codemirror_mode": {
    "name": "ipython",
    "version": 3
   },
   "file_extension": ".py",
   "mimetype": "text/x-python",
   "name": "python",
   "nbconvert_exporter": "python",
   "pygments_lexer": "ipython3",
   "version": "3.8.3"
  }
 },
 "nbformat": 4,
 "nbformat_minor": 4
}
